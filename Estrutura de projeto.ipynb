{
 "cells": [
  {
   "cell_type": "markdown",
   "metadata": {},
   "source": [
    "# Plano de trabalho."
   ]
  },
  {
   "cell_type": "markdown",
   "metadata": {},
   "source": [
    "## Resumo da Tarefa."
   ]
  },
  {
   "cell_type": "markdown",
   "metadata": {},
   "source": [
    "A operadora de comunicações **Interconnect** gostaria de ser capaz de predizer a rotatividade de seus clientes. Se for descoberto que um usuário está planejando trocar de operadora, a empresa oferecerá-lhe códigos promocionais e opções de plano especiais. A equipe de marketing da **Interconnect** coletou alguns dados pessoais da sua clientela, incluindo a informação sobre seus planos e contratos. \n",
    "\n",
    "Em resumo, a ``Interconect`` precisa de um modelo que preveja quando um cliente deseja trocar de operadora, a fim de elaborar estratégias para reter esses clientes na operadora. Para construir o modelo, eu preciso entender as informações fornecidas, compreender o que os dados têm a me dizer e, assim, terei uma direção para a construção do modelo."
   ]
  },
  {
   "cell_type": "markdown",
   "metadata": {},
   "source": [
    "----------------------------------------------------------------------------------------------------------------------"
   ]
  },
  {
   "cell_type": "markdown",
   "metadata": {},
   "source": [
    "## Estrutura do Projeto"
   ]
  },
  {
   "cell_type": "markdown",
   "metadata": {},
   "source": [
    "### **Passo 1. Abertura dos dados e importação da bibliotecas.**\n",
    "-------------------------------------------------------------------------------------------------------------------------\n",
    "<ul>   <li><h4><strong>Bibliotecas:</strong></h4></li>\n",
    "       <ul><li style=\"margin-bottom: -15px\">A medida que houver a necessidade serão adicionadas mais bibliotecas.</li></ul>\n",
    "</ul>"
   ]
  },
  {
   "cell_type": "markdown",
   "metadata": {},
   "source": [
    "<ul >\n",
    "  <li><h4><strong>Abertura dos dados:</strong></h4>\n",
    "    <ul>\n",
    "      <li >Os dados estão distribuídos em quatro arquivos distintos, localizados nos seguintes caminhos: \n",
    "        <ol>\n",
    "          <li style=\"margin-bottom: 10px\"><code style=\"color:red;\">/datasets/final_provider/contract.csv</code> será armazenado na variável <code style=\"color:darkblue;\">contract</code>. <br>\n",
    "            <i>A variável <code style=\"color:darkblue;\">contract</code> armazenará informação contratual;</i>\n",
    "          </li>\n",
    "          <li style=\"margin-bottom: 10px\"><code style=\"color:red;\">/datasets/final_provider/personal.csv</code> será armazenado na variável <code style=\"color:darkblue;\">personal</code>. <br>\n",
    "            <i>A variável <code style=\"color:darkblue;\">personal</code> armazenará dados pessoais do cliente;</i>\n",
    "          </li>\n",
    "          <li style=\"margin-bottom: 10px\"><code style=\"color:red;\">/datasets/final_provider/internet.csv</code> será armazenado na variável <code style=\"color:darkblue;\">internet</code>. <br>\n",
    "            <i>A variável <code style=\"color:darkblue;\">internet</code> armazenará informação sobre serviços de Internet;</i>\n",
    "          </li>\n",
    "          <li style=\"margin-bottom: 10px\"><code style=\"color:red;\">/datasets/final_provider/phone.csv</code> será armazenado na variável <code style=\"color:darkblue;\">phone</code>. <br>\n",
    "            <i>A variável <code style=\"color:darkblue;\">phone</code> armazenará informação sobre serviços de telefonia;</i>\n",
    "          </li>\n",
    "        </ol>  \n",
    "      </li>\n",
    "       <li style=\"margin-bottom: -12px\">Todas as tabelas possuem a coluna <code style=\"color:red;\">customerID</code> que é um identificador unícovos para cada cliente.</li>\n",
    "    </ul>\n",
    "  </li>\n",
    "</ul>"
   ]
  },
  {
   "cell_type": "markdown",
   "metadata": {},
   "source": [
    "### **Passo 2. Análise inicial.**\n",
    "-------------------------------------------------------------------------------------------------------------------------------\n",
    "<ul>\n",
    "    <li><h4><strong>Primeira análise:</strong></h4></li>\n",
    "        <ul><li style=\"margin-bottom: 2px\">Vou imprimir uma amostra para ter uma visão inicial das tabelas e suas colunas </li>\n",
    "            <li style=\"margin-bottom: 2px\">Mostrar as informações gerais onde será possível identificar erros explícito como erros de <strong>tipos</strong> e <strong>valores ausentes</strong></li>\n",
    "            <li style=\"margin-bottom: 2px\">Também vai ser verificado os valores ausentes com a <code style=\"color:red;\">.isna()</code> e valores ausentes com <code style=\"color:red;\">.duplicated()</code></li>\n",
    "            <li>Para evitar repetição de código uma função vai ser criada para realizar a primeira anáise</li></ul>\n",
    "    <li><h4><strong>Conclusões e tomada de decisões:</strong></h4></li>\n",
    "        <ul>"
   ]
  },
  {
   "cell_type": "markdown",
   "metadata": {},
   "source": [
    "### **Passo 3. Investigar as colunas e preparar dados para o treinamento.**\n",
    "-------------------------------------------------------------------------------------------------------------------------------\n",
    "<ul>\n",
    "    <li><h4><strong>Invetigarei as colunas tendo as seguites perguntas como base: </strong></h4>\n",
    "        <ul><li style=\"margin-bottom: 2px\">Tem distorção na distruição na distribuição dos dados ?</li>\n",
    "            <li style=\"margin-bottom: 2px\">Existem valores atípicos ?</li>\n",
    "            <li style=\"margin-bottom: 2px\">As classes objetivo estão distribuidas de forma equilibrada ?</li>\n",
    "            <li style=\"margin-bottom: 2px\">Todas as colunas serão usadas como features ?</li>\n",
    "        </ul>\n",
    "    </li>\n",
    "    <li><h4><strong>Preparação dos dados baseado nas resposas obtidas.</strong></h4>"
   ]
  },
  {
   "cell_type": "markdown",
   "metadata": {},
   "source": [
    "### **Passo 4.Treinamento e teste dos modelos.**\n",
    "-------------------------------------------------------------------------------------------------------------------------------\n",
    "<ul>\n",
    "    <li><h4><strong>Tunagem de Hiperpârametros</strong></h4>\n",
    "        <ul>\n",
    "            <li>Vou testar varias configurações de hiperparâmetros para obter o melhor desempenho.</li>\n",
    "        </ul>\n",
    "    <li><h4><strong>Teste dos melhores modelos.</strong></h4>\n",
    "        <ul>\n",
    "        <li>Teste final para ver como o modelo se comporta com dados diferentes.</li>\n",
    "        </ul>"
   ]
  }
 ],
 "metadata": {
  "kernelspec": {
   "display_name": "Python 3 (ipykernel)",
   "language": "python",
   "name": "python3"
  },
  "language_info": {
   "codemirror_mode": {
    "name": "ipython",
    "version": 3
   },
   "file_extension": ".py",
   "mimetype": "text/x-python",
   "name": "python",
   "nbconvert_exporter": "python",
   "pygments_lexer": "ipython3",
   "version": "3.10.9"
  },
  "toc": {
   "base_numbering": 1,
   "nav_menu": {},
   "number_sections": false,
   "sideBar": true,
   "skip_h1_title": true,
   "title_cell": "Table of Contents",
   "title_sidebar": "Contents",
   "toc_cell": false,
   "toc_position": {
    "height": "calc(100% - 180px)",
    "left": "10px",
    "top": "150px",
    "width": "165px"
   },
   "toc_section_display": true,
   "toc_window_display": false
  }
 },
 "nbformat": 4,
 "nbformat_minor": 2
}
